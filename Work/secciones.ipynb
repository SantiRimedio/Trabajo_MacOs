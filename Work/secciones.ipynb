{
 "cells": [
  {
   "cell_type": "code",
   "execution_count": 1,
   "metadata": {
    "collapsed": true
   },
   "outputs": [
    {
     "name": "stderr",
     "output_type": "stream",
     "text": [
      "/var/folders/d3/r414kbwd72g3nnhvylz22y9m0000gp/T/ipykernel_24037/694994262.py:1: DeprecationWarning: Shapely 2.0 is installed, but because PyGEOS is also installed, GeoPandas still uses PyGEOS by default. However, starting with version 0.14, the default will switch to Shapely. To force to use Shapely 2.0 now, you can either uninstall PyGEOS or set the environment variable USE_PYGEOS=0. You can do this before starting the Python process, or in your code before importing geopandas:\n",
      "\n",
      "import os\n",
      "os.environ['USE_PYGEOS'] = '0'\n",
      "import geopandas\n",
      "\n",
      "In the next release, GeoPandas will switch to using Shapely by default, even if PyGEOS is installed. If you only have PyGEOS installed to get speed-ups, this switch should be smooth. However, if you are using PyGEOS directly (calling PyGEOS functions on geometries from GeoPandas), this will then stop working and you are encouraged to migrate from PyGEOS to Shapely 2.0 (https://shapely.readthedocs.io/en/latest/migration_pygeos.html).\n",
      "  import geopandas as gpd\n"
     ]
    }
   ],
   "source": [
    "import geopandas as gpd\n",
    "import pandas as pd\n",
    "from shapely.geometry import Point"
   ]
  },
  {
   "cell_type": "code",
   "execution_count": null,
   "outputs": [],
   "source": [
    "df = pd.read_excel(\"/Users/santi/Desktop/Work/Bases/base_2012_2022_limpia.xlsx\")\n",
    "\n",
    "df[\"TIPO_OBRA\"] = df[\"TIPO_OBRA\"].astype(str)\n",
    "\n",
    "df = df[df[\"TIPO_OBRA\"]  == \"1\"]\n",
    "df[\"SUP_CONST\"] = df[\"SUP_CONST\"].astype(str).str.replace(\",\", \".\")\n",
    "df['SUP_CONST'] = df[\"SUP_CONST\"].astype(float)\n",
    "df[\"BARRIOS\"] = df[\"BARRIOS\"].str.replace(\",\", \".\")\n",
    "df[\"BARRIOS\"] = df[\"BARRIOS\"].str.replace(\"NUNEZ\", \"NUÑEZ\")\n",
    "\n",
    "\n",
    "# Create a GeoDataFrame\n",
    "gdf = gpd.GeoDataFrame(df, geometry=gpd.points_from_xy( df[\"Longitud\"], df[\"Latitud\"]))\n",
    "\n",
    "gdf.crs = 'EPSG:4326'\n",
    "gdf.to_crs(epsg=4326)\n",
    "# Set the CRS\n",
    "gdf"
   ],
   "metadata": {
    "collapsed": false
   }
  },
  {
   "cell_type": "code",
   "execution_count": 7,
   "outputs": [
    {
     "data": {
      "text/plain": "   ROT_SEC SECCION    SUPERFICIE  \\\n0       13     013  1.656222e+06   \n1       28     028  1.219103e+06   \n2       30     030  1.406862e+06   \n3       32     032  1.914667e+06   \n4       21     021  4.404253e+06   \n..     ...     ...           ...   \n89      11     011  1.446524e+06   \n90      12     012  1.178706e+06   \n91      24     024  2.340102e+06   \n92      16     016  1.730185e+06   \n93      22     022  1.051620e+06   \n\n                                             geometry  \n0   MULTIPOLYGON (((105465.04360 103417.26408, 105...  \n1   MULTIPOLYGON (((105483.38299 101154.56047, 104...  \n2   MULTIPOLYGON (((105546.61439 100906.14591, 105...  \n3   MULTIPOLYGON (((105455.94097 98091.06996, 1053...  \n4   MULTIPOLYGON (((106062.68401 106996.58843, 106...  \n..                                                ...  \n89  MULTIPOLYGON (((106726.25776 104906.85510, 106...  \n90  MULTIPOLYGON (((107717.06307 102195.91543, 107...  \n91  MULTIPOLYGON (((106700.42188 99281.04368, 1067...  \n92  MULTIPOLYGON (((108108.55805 99118.38857, 1081...  \n93  MULTIPOLYGON (((106614.32666 100221.58686, 106...  \n\n[94 rows x 4 columns]",
      "text/html": "<div>\n<style scoped>\n    .dataframe tbody tr th:only-of-type {\n        vertical-align: middle;\n    }\n\n    .dataframe tbody tr th {\n        vertical-align: top;\n    }\n\n    .dataframe thead th {\n        text-align: right;\n    }\n</style>\n<table border=\"1\" class=\"dataframe\">\n  <thead>\n    <tr style=\"text-align: right;\">\n      <th></th>\n      <th>ROT_SEC</th>\n      <th>SECCION</th>\n      <th>SUPERFICIE</th>\n      <th>geometry</th>\n    </tr>\n  </thead>\n  <tbody>\n    <tr>\n      <th>0</th>\n      <td>13</td>\n      <td>013</td>\n      <td>1.656222e+06</td>\n      <td>MULTIPOLYGON (((105465.04360 103417.26408, 105...</td>\n    </tr>\n    <tr>\n      <th>1</th>\n      <td>28</td>\n      <td>028</td>\n      <td>1.219103e+06</td>\n      <td>MULTIPOLYGON (((105483.38299 101154.56047, 104...</td>\n    </tr>\n    <tr>\n      <th>2</th>\n      <td>30</td>\n      <td>030</td>\n      <td>1.406862e+06</td>\n      <td>MULTIPOLYGON (((105546.61439 100906.14591, 105...</td>\n    </tr>\n    <tr>\n      <th>3</th>\n      <td>32</td>\n      <td>032</td>\n      <td>1.914667e+06</td>\n      <td>MULTIPOLYGON (((105455.94097 98091.06996, 1053...</td>\n    </tr>\n    <tr>\n      <th>4</th>\n      <td>21</td>\n      <td>021</td>\n      <td>4.404253e+06</td>\n      <td>MULTIPOLYGON (((106062.68401 106996.58843, 106...</td>\n    </tr>\n    <tr>\n      <th>...</th>\n      <td>...</td>\n      <td>...</td>\n      <td>...</td>\n      <td>...</td>\n    </tr>\n    <tr>\n      <th>89</th>\n      <td>11</td>\n      <td>011</td>\n      <td>1.446524e+06</td>\n      <td>MULTIPOLYGON (((106726.25776 104906.85510, 106...</td>\n    </tr>\n    <tr>\n      <th>90</th>\n      <td>12</td>\n      <td>012</td>\n      <td>1.178706e+06</td>\n      <td>MULTIPOLYGON (((107717.06307 102195.91543, 107...</td>\n    </tr>\n    <tr>\n      <th>91</th>\n      <td>24</td>\n      <td>024</td>\n      <td>2.340102e+06</td>\n      <td>MULTIPOLYGON (((106700.42188 99281.04368, 1067...</td>\n    </tr>\n    <tr>\n      <th>92</th>\n      <td>16</td>\n      <td>016</td>\n      <td>1.730185e+06</td>\n      <td>MULTIPOLYGON (((108108.55805 99118.38857, 1081...</td>\n    </tr>\n    <tr>\n      <th>93</th>\n      <td>22</td>\n      <td>022</td>\n      <td>1.051620e+06</td>\n      <td>MULTIPOLYGON (((106614.32666 100221.58686, 106...</td>\n    </tr>\n  </tbody>\n</table>\n<p>94 rows × 4 columns</p>\n</div>"
     },
     "execution_count": 7,
     "metadata": {},
     "output_type": "execute_result"
    }
   ],
   "source": [
    "gdf_secciones = gpd.read_file(\"https://cdn.buenosaires.gob.ar/datosabiertos/datasets/secretaria-de-desarrollo-urbano/secciones/secciones-catastrales.geojson\")\n",
    "gdf_secciones = gdf_secciones.to_crs(\"EPSG:4326\")\n",
    "gdf_secciones"
   ],
   "metadata": {
    "collapsed": false
   }
  },
  {
   "cell_type": "code",
   "execution_count": 3,
   "outputs": [
    {
     "ename": "NameError",
     "evalue": "name 'gdf' is not defined",
     "output_type": "error",
     "traceback": [
      "\u001B[0;31m---------------------------------------------------------------------------\u001B[0m",
      "\u001B[0;31mNameError\u001B[0m                                 Traceback (most recent call last)",
      "Cell \u001B[0;32mIn[3], line 1\u001B[0m\n\u001B[0;32m----> 1\u001B[0m join_result \u001B[38;5;241m=\u001B[39m gpd\u001B[38;5;241m.\u001B[39msjoin(\u001B[43mgdf\u001B[49m, gdf_secciones, how\u001B[38;5;241m=\u001B[39m\u001B[38;5;124m'\u001B[39m\u001B[38;5;124mleft\u001B[39m\u001B[38;5;124m'\u001B[39m, predicate\u001B[38;5;241m=\u001B[39m\u001B[38;5;124m'\u001B[39m\u001B[38;5;124mwithin\u001B[39m\u001B[38;5;124m'\u001B[39m)\n\u001B[1;32m      2\u001B[0m join_result\n",
      "\u001B[0;31mNameError\u001B[0m: name 'gdf' is not defined"
     ]
    }
   ],
   "source": [
    "join_result = gpd.sjoin(gdf, gdf_secciones, how='left', predicate='within')\n",
    "join_result"
   ],
   "metadata": {
    "collapsed": false
   }
  },
  {
   "cell_type": "code",
   "execution_count": null,
   "outputs": [],
   "source": [
    "GeoJson_barrios = \"https://cdn.buenosaires.gob.ar/datosabiertos/datasets/ministerio-de-educacion/barrios/barrios.geojson\"\n",
    "geojson = gpd.read_file(GeoJson_barrios)\n",
    "geojson.crs"
   ],
   "metadata": {
    "collapsed": false
   }
  },
  {
   "cell_type": "code",
   "execution_count": null,
   "outputs": [],
   "source": [],
   "metadata": {
    "collapsed": false
   }
  }
 ],
 "metadata": {
  "kernelspec": {
   "display_name": "Python 3",
   "language": "python",
   "name": "python3"
  },
  "language_info": {
   "codemirror_mode": {
    "name": "ipython",
    "version": 2
   },
   "file_extension": ".py",
   "mimetype": "text/x-python",
   "name": "python",
   "nbconvert_exporter": "python",
   "pygments_lexer": "ipython2",
   "version": "2.7.6"
  }
 },
 "nbformat": 4,
 "nbformat_minor": 0
}
