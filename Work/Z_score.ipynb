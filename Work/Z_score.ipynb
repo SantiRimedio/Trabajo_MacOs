{
 "cells": [
  {
   "cell_type": "code",
   "execution_count": 344,
   "metadata": {
    "collapsed": true
   },
   "outputs": [],
   "source": [
    "import pandas as pd\n",
    "from sklearn.decomposition import PCA\n",
    "import numpy as np\n",
    "from sklearn.linear_model import LinearRegression\n",
    "from sklearn.metrics import mean_squared_error\n",
    "import geopandas as gpd\n",
    "import re"
   ]
  },
  {
   "cell_type": "code",
   "execution_count": 345,
   "outputs": [
    {
     "data": {
      "text/plain": "       Unnamed: 0.2  Unnamed: 0.1  Unnamed: 0  ANIO MES  TRIMESTRE  \\\n0                 0           0.0           7  2022   1        1.0   \n1                 1           1.0           8  2022   2        1.0   \n2                 2           2.0           9  2022   3        1.0   \n3                 3           3.0          10  2022   1        1.0   \n4                 4           4.0          11  2022   3        1.0   \n...             ...           ...         ...   ...  ..        ...   \n25515         21592           NaN       17835  2014  10        4.0   \n25517         21594           NaN       17837  2021   1        1.0   \n25518         21595           NaN       17838  2013   6        2.0   \n25522         21599           NaN       17842  2012   8        3.0   \n25524         21601           NaN       17844  2021   4        2.0   \n\n                     FECHA                      DIRECCION TIPO_OBRA  \\\n0               3 ene 2022             GUARDIA VIEJA 3764         1   \n1              25 feb 2022                      YATAY 641         1   \n2               3 mar 2022                     RAWSON 276         1   \n3              25 ene 2022  TREINTA Y TRES ORIENTALES 682         1   \n4               2 mar 2022                    LAMBARE 847         1   \n...                    ...                            ...       ...   \n25515  2014-10-02 00:00:00                    ZUVIRIA 313         1   \n25517           18/10/2020                   ZUVIRIA 4170         1   \n25518  2013-06-03 00:00:00                     ZUVIRIA 51         1   \n25522  2012-08-24 00:00:00                    ZUVIRIA 717         1   \n25524            3/11/2021                    ZUVIRIA 770         1   \n\n      TIPO_OBRA_CUR  ... ALT_PISOS            BARRIOS COMUNA  \\\n0        OBRA MAYOR  ...        10            ALMAGRO    5.0   \n1        OBRA MAYOR  ...        11            ALMAGRO    5.0   \n2        Obra Mayor  ...        11            ALMAGRO    5.0   \n3        OBRA MEDIA  ...        11            ALMAGRO    5.0   \n4        OBRA MAYOR  ...        10            ALMAGRO    5.0   \n...             ...  ...       ...                ...    ...   \n25515     SIN DATOS  ...       NaN   PARQUE CHACABUCO    7.0   \n25517    Obra Media  ...         4  PARQUE AVELLANEDA    9.0   \n25518     SIN DATOS  ...       NaN   PARQUE CHACABUCO    7.0   \n25522     SIN DATOS  ...         0   PARQUE CHACABUCO    7.0   \n25524    Obra Mayor  ...         0   PARQUE CHACABUCO    7.0   \n\n               PROPIETARIO    Latitud   Longitud  OBS  \\\n0       PRIVADO PARTICULAR -34.601221 -58.417228  NaN   \n1      PERSONERIA JURIDICA        NaN        NaN  NaN   \n2       PRIVADO PARTICULAR -34.609157 -58.426283  NaN   \n3       PRIVADO PARTICULAR        NaN        NaN  NaN   \n4      PERSONERIA JURIDICA -34.605103 -58.430465  NaN   \n...                    ...        ...        ...  ...   \n25515                  NaN -34.629211 -58.430486  NaN   \n25517              PRIVADO -34.657364 -58.471501  NaN   \n25518                  NaN -34.628684 -58.426622  NaN   \n25522                  NaN -34.629947 -58.435159  NaN   \n25524   PRIVADO-PARTICULAR -34.630351 -58.435445  NaN   \n\n                                                     add location  \\\n0      GUARDIA VIEJA 3764 ALMAGRO Buenos Aires, Argen...      0.0   \n1              YATAY 641 ALMAGRO Buenos Aires, Argentina      NaN   \n2             RAWSON 276 ALMAGRO Buenos Aires, Argentina      2.0   \n3      TREINTA Y TRES ORIENTALES 682 ALMAGRO Buenos A...      NaN   \n4            LAMBARE 847 ALMAGRO Buenos Aires, Argentina      4.0   \n...                                                  ...      ...   \n25515                                                NaN      NaN   \n25517                                                NaN      NaN   \n25518                                                NaN      NaN   \n25522                                                NaN      NaN   \n25524                                                NaN      NaN   \n\n                                                 address  \n0      GUARDIA VIEJA 3764 ALMAGRO Buenos Aires, Argen...  \n1              YATAY 641 ALMAGRO Buenos Aires, Argentina  \n2             RAWSON 276 ALMAGRO Buenos Aires, Argentina  \n3      TREINTA Y TRES ORIENTALES 682 ALMAGRO Buenos A...  \n4            LAMBARE 847 ALMAGRO Buenos Aires, Argentina  \n...                                                  ...  \n25515                                                NaN  \n25517                                                NaN  \n25518                                                NaN  \n25522                                                NaN  \n25524                                                NaN  \n\n[11088 rows x 32 columns]",
      "text/html": "<div>\n<style scoped>\n    .dataframe tbody tr th:only-of-type {\n        vertical-align: middle;\n    }\n\n    .dataframe tbody tr th {\n        vertical-align: top;\n    }\n\n    .dataframe thead th {\n        text-align: right;\n    }\n</style>\n<table border=\"1\" class=\"dataframe\">\n  <thead>\n    <tr style=\"text-align: right;\">\n      <th></th>\n      <th>Unnamed: 0.2</th>\n      <th>Unnamed: 0.1</th>\n      <th>Unnamed: 0</th>\n      <th>ANIO</th>\n      <th>MES</th>\n      <th>TRIMESTRE</th>\n      <th>FECHA</th>\n      <th>DIRECCION</th>\n      <th>TIPO_OBRA</th>\n      <th>TIPO_OBRA_CUR</th>\n      <th>...</th>\n      <th>ALT_PISOS</th>\n      <th>BARRIOS</th>\n      <th>COMUNA</th>\n      <th>PROPIETARIO</th>\n      <th>Latitud</th>\n      <th>Longitud</th>\n      <th>OBS</th>\n      <th>add</th>\n      <th>location</th>\n      <th>address</th>\n    </tr>\n  </thead>\n  <tbody>\n    <tr>\n      <th>0</th>\n      <td>0</td>\n      <td>0.0</td>\n      <td>7</td>\n      <td>2022</td>\n      <td>1</td>\n      <td>1.0</td>\n      <td>3 ene 2022</td>\n      <td>GUARDIA VIEJA 3764</td>\n      <td>1</td>\n      <td>OBRA MAYOR</td>\n      <td>...</td>\n      <td>10</td>\n      <td>ALMAGRO</td>\n      <td>5.0</td>\n      <td>PRIVADO PARTICULAR</td>\n      <td>-34.601221</td>\n      <td>-58.417228</td>\n      <td>NaN</td>\n      <td>GUARDIA VIEJA 3764 ALMAGRO Buenos Aires, Argen...</td>\n      <td>0.0</td>\n      <td>GUARDIA VIEJA 3764 ALMAGRO Buenos Aires, Argen...</td>\n    </tr>\n    <tr>\n      <th>1</th>\n      <td>1</td>\n      <td>1.0</td>\n      <td>8</td>\n      <td>2022</td>\n      <td>2</td>\n      <td>1.0</td>\n      <td>25 feb 2022</td>\n      <td>YATAY 641</td>\n      <td>1</td>\n      <td>OBRA MAYOR</td>\n      <td>...</td>\n      <td>11</td>\n      <td>ALMAGRO</td>\n      <td>5.0</td>\n      <td>PERSONERIA JURIDICA</td>\n      <td>NaN</td>\n      <td>NaN</td>\n      <td>NaN</td>\n      <td>YATAY 641 ALMAGRO Buenos Aires, Argentina</td>\n      <td>NaN</td>\n      <td>YATAY 641 ALMAGRO Buenos Aires, Argentina</td>\n    </tr>\n    <tr>\n      <th>2</th>\n      <td>2</td>\n      <td>2.0</td>\n      <td>9</td>\n      <td>2022</td>\n      <td>3</td>\n      <td>1.0</td>\n      <td>3 mar 2022</td>\n      <td>RAWSON 276</td>\n      <td>1</td>\n      <td>Obra Mayor</td>\n      <td>...</td>\n      <td>11</td>\n      <td>ALMAGRO</td>\n      <td>5.0</td>\n      <td>PRIVADO PARTICULAR</td>\n      <td>-34.609157</td>\n      <td>-58.426283</td>\n      <td>NaN</td>\n      <td>RAWSON 276 ALMAGRO Buenos Aires, Argentina</td>\n      <td>2.0</td>\n      <td>RAWSON 276 ALMAGRO Buenos Aires, Argentina</td>\n    </tr>\n    <tr>\n      <th>3</th>\n      <td>3</td>\n      <td>3.0</td>\n      <td>10</td>\n      <td>2022</td>\n      <td>1</td>\n      <td>1.0</td>\n      <td>25 ene 2022</td>\n      <td>TREINTA Y TRES ORIENTALES 682</td>\n      <td>1</td>\n      <td>OBRA MEDIA</td>\n      <td>...</td>\n      <td>11</td>\n      <td>ALMAGRO</td>\n      <td>5.0</td>\n      <td>PRIVADO PARTICULAR</td>\n      <td>NaN</td>\n      <td>NaN</td>\n      <td>NaN</td>\n      <td>TREINTA Y TRES ORIENTALES 682 ALMAGRO Buenos A...</td>\n      <td>NaN</td>\n      <td>TREINTA Y TRES ORIENTALES 682 ALMAGRO Buenos A...</td>\n    </tr>\n    <tr>\n      <th>4</th>\n      <td>4</td>\n      <td>4.0</td>\n      <td>11</td>\n      <td>2022</td>\n      <td>3</td>\n      <td>1.0</td>\n      <td>2 mar 2022</td>\n      <td>LAMBARE 847</td>\n      <td>1</td>\n      <td>OBRA MAYOR</td>\n      <td>...</td>\n      <td>10</td>\n      <td>ALMAGRO</td>\n      <td>5.0</td>\n      <td>PERSONERIA JURIDICA</td>\n      <td>-34.605103</td>\n      <td>-58.430465</td>\n      <td>NaN</td>\n      <td>LAMBARE 847 ALMAGRO Buenos Aires, Argentina</td>\n      <td>4.0</td>\n      <td>LAMBARE 847 ALMAGRO Buenos Aires, Argentina</td>\n    </tr>\n    <tr>\n      <th>...</th>\n      <td>...</td>\n      <td>...</td>\n      <td>...</td>\n      <td>...</td>\n      <td>...</td>\n      <td>...</td>\n      <td>...</td>\n      <td>...</td>\n      <td>...</td>\n      <td>...</td>\n      <td>...</td>\n      <td>...</td>\n      <td>...</td>\n      <td>...</td>\n      <td>...</td>\n      <td>...</td>\n      <td>...</td>\n      <td>...</td>\n      <td>...</td>\n      <td>...</td>\n      <td>...</td>\n    </tr>\n    <tr>\n      <th>25515</th>\n      <td>21592</td>\n      <td>NaN</td>\n      <td>17835</td>\n      <td>2014</td>\n      <td>10</td>\n      <td>4.0</td>\n      <td>2014-10-02 00:00:00</td>\n      <td>ZUVIRIA 313</td>\n      <td>1</td>\n      <td>SIN DATOS</td>\n      <td>...</td>\n      <td>NaN</td>\n      <td>PARQUE CHACABUCO</td>\n      <td>7.0</td>\n      <td>NaN</td>\n      <td>-34.629211</td>\n      <td>-58.430486</td>\n      <td>NaN</td>\n      <td>NaN</td>\n      <td>NaN</td>\n      <td>NaN</td>\n    </tr>\n    <tr>\n      <th>25517</th>\n      <td>21594</td>\n      <td>NaN</td>\n      <td>17837</td>\n      <td>2021</td>\n      <td>1</td>\n      <td>1.0</td>\n      <td>18/10/2020</td>\n      <td>ZUVIRIA 4170</td>\n      <td>1</td>\n      <td>Obra Media</td>\n      <td>...</td>\n      <td>4</td>\n      <td>PARQUE AVELLANEDA</td>\n      <td>9.0</td>\n      <td>PRIVADO</td>\n      <td>-34.657364</td>\n      <td>-58.471501</td>\n      <td>NaN</td>\n      <td>NaN</td>\n      <td>NaN</td>\n      <td>NaN</td>\n    </tr>\n    <tr>\n      <th>25518</th>\n      <td>21595</td>\n      <td>NaN</td>\n      <td>17838</td>\n      <td>2013</td>\n      <td>6</td>\n      <td>2.0</td>\n      <td>2013-06-03 00:00:00</td>\n      <td>ZUVIRIA 51</td>\n      <td>1</td>\n      <td>SIN DATOS</td>\n      <td>...</td>\n      <td>NaN</td>\n      <td>PARQUE CHACABUCO</td>\n      <td>7.0</td>\n      <td>NaN</td>\n      <td>-34.628684</td>\n      <td>-58.426622</td>\n      <td>NaN</td>\n      <td>NaN</td>\n      <td>NaN</td>\n      <td>NaN</td>\n    </tr>\n    <tr>\n      <th>25522</th>\n      <td>21599</td>\n      <td>NaN</td>\n      <td>17842</td>\n      <td>2012</td>\n      <td>8</td>\n      <td>3.0</td>\n      <td>2012-08-24 00:00:00</td>\n      <td>ZUVIRIA 717</td>\n      <td>1</td>\n      <td>SIN DATOS</td>\n      <td>...</td>\n      <td>0</td>\n      <td>PARQUE CHACABUCO</td>\n      <td>7.0</td>\n      <td>NaN</td>\n      <td>-34.629947</td>\n      <td>-58.435159</td>\n      <td>NaN</td>\n      <td>NaN</td>\n      <td>NaN</td>\n      <td>NaN</td>\n    </tr>\n    <tr>\n      <th>25524</th>\n      <td>21601</td>\n      <td>NaN</td>\n      <td>17844</td>\n      <td>2021</td>\n      <td>4</td>\n      <td>2.0</td>\n      <td>3/11/2021</td>\n      <td>ZUVIRIA 770</td>\n      <td>1</td>\n      <td>Obra Mayor</td>\n      <td>...</td>\n      <td>0</td>\n      <td>PARQUE CHACABUCO</td>\n      <td>7.0</td>\n      <td>PRIVADO-PARTICULAR</td>\n      <td>-34.630351</td>\n      <td>-58.435445</td>\n      <td>NaN</td>\n      <td>NaN</td>\n      <td>NaN</td>\n      <td>NaN</td>\n    </tr>\n  </tbody>\n</table>\n<p>11088 rows × 32 columns</p>\n</div>"
     },
     "execution_count": 345,
     "metadata": {},
     "output_type": "execute_result"
    }
   ],
   "source": [
    "df = pd.read_excel(\"/Users/santi/Desktop/Work/Bases/base_2012_2022_limpia.xlsx\")\n",
    "\n",
    "df[\"TIPO_OBRA\"] = df[\"TIPO_OBRA\"].astype(str)\n",
    "\n",
    "df = df[df[\"TIPO_OBRA\"]  == \"1\"]\n",
    "df[\"SUP_CONST\"] = df[\"SUP_CONST\"].astype(str).str.replace(\",\", \".\")\n",
    "df['SUP_CONST'] = df[\"SUP_CONST\"].astype(float)\n",
    "df[\"BARRIOS\"] = df[\"BARRIOS\"].str.replace(\",\", \".\")\n",
    "df[\"BARRIOS\"] = df[\"BARRIOS\"].str.replace(\"NUNEZ\", \"NUÑEZ\")\n",
    "#df[\"SUP_CONST\"] = df[\"SUP_CONST\"].astype(str).str.replace(\"321254.00\", \"321.254\")\n",
    "#df.at[2371, 'SUP_CONST'] = str(df.at[2371, 'SUP_CONST']).replace('321254.00', '321.254')\n",
    "df.at[2371, 'SUP_CONST'] = 321.254\n",
    "\n",
    "df"
   ],
   "metadata": {
    "collapsed": false
   }
  },
  {
   "cell_type": "code",
   "execution_count": 346,
   "outputs": [
    {
     "data": {
      "text/plain": "                    permisadas  SUP_CONST\nBARRIOS       ANIO                       \nAGRONOMIA     2012           8    5905.91\n              2013           6    2156.21\n              2014           3    5551.22\n              2015           3    2972.95\n              2016          10    9653.52\n...                        ...        ...\nVILLA URQUIZA 2018         110  207948.88\n              2019          83  128606.66\n              2020          10   14376.06\n              2021          48   95615.00\n              2022          66   80030.29\n\n[518 rows x 2 columns]",
      "text/html": "<div>\n<style scoped>\n    .dataframe tbody tr th:only-of-type {\n        vertical-align: middle;\n    }\n\n    .dataframe tbody tr th {\n        vertical-align: top;\n    }\n\n    .dataframe thead th {\n        text-align: right;\n    }\n</style>\n<table border=\"1\" class=\"dataframe\">\n  <thead>\n    <tr style=\"text-align: right;\">\n      <th></th>\n      <th></th>\n      <th>permisadas</th>\n      <th>SUP_CONST</th>\n    </tr>\n    <tr>\n      <th>BARRIOS</th>\n      <th>ANIO</th>\n      <th></th>\n      <th></th>\n    </tr>\n  </thead>\n  <tbody>\n    <tr>\n      <th rowspan=\"5\" valign=\"top\">AGRONOMIA</th>\n      <th>2012</th>\n      <td>8</td>\n      <td>5905.91</td>\n    </tr>\n    <tr>\n      <th>2013</th>\n      <td>6</td>\n      <td>2156.21</td>\n    </tr>\n    <tr>\n      <th>2014</th>\n      <td>3</td>\n      <td>5551.22</td>\n    </tr>\n    <tr>\n      <th>2015</th>\n      <td>3</td>\n      <td>2972.95</td>\n    </tr>\n    <tr>\n      <th>2016</th>\n      <td>10</td>\n      <td>9653.52</td>\n    </tr>\n    <tr>\n      <th>...</th>\n      <th>...</th>\n      <td>...</td>\n      <td>...</td>\n    </tr>\n    <tr>\n      <th rowspan=\"5\" valign=\"top\">VILLA URQUIZA</th>\n      <th>2018</th>\n      <td>110</td>\n      <td>207948.88</td>\n    </tr>\n    <tr>\n      <th>2019</th>\n      <td>83</td>\n      <td>128606.66</td>\n    </tr>\n    <tr>\n      <th>2020</th>\n      <td>10</td>\n      <td>14376.06</td>\n    </tr>\n    <tr>\n      <th>2021</th>\n      <td>48</td>\n      <td>95615.00</td>\n    </tr>\n    <tr>\n      <th>2022</th>\n      <td>66</td>\n      <td>80030.29</td>\n    </tr>\n  </tbody>\n</table>\n<p>518 rows × 2 columns</p>\n</div>"
     },
     "execution_count": 346,
     "metadata": {},
     "output_type": "execute_result"
    }
   ],
   "source": [
    "merge = df.groupby([\"BARRIOS\",'ANIO']).agg(permisadas=(\"ANIO\",\"size\"),SUP_CONST=(\"SUP_CONST\",\"sum\"))\n",
    "merge"
   ],
   "metadata": {
    "collapsed": false
   }
  },
  {
   "cell_type": "code",
   "execution_count": 347,
   "outputs": [],
   "source": [
    "def zscore(arr):\n",
    "    return (arr - np.mean(arr)) / np.std(arr)\n",
    "\n",
    "merge['Z_score_permisadas'] = merge.groupby(level=0)['permisadas'].transform(zscore)\n",
    "\n",
    "merge['Z_score_SUP_CONST'] = merge.groupby(level=0)['SUP_CONST'].transform(zscore)"
   ],
   "metadata": {
    "collapsed": false
   }
  },
  {
   "cell_type": "code",
   "execution_count": 348,
   "outputs": [
    {
     "data": {
      "text/plain": "<PandasArray>\n[  0.7637868145131296, -0.40696313632172615, -0.49412075629470936,\n  -0.9712003850970822,   1.9341500345462466,  -0.2567746566381655,\n   1.1435760556900512, -0.12096107015442402,  -1.6382902836511157,\n  -1.9499357172891179,\n ...\n   1.2851436209329836, 0.012543931683515187,  -0.8471257924192537,\n  0.09792496052456749,  0.20522442230225707,     2.25988023138781,\n  0.40632631942207265,  -3.1465072174752264,  -0.9803598496634532,\n    -0.74065703583375]\nLength: 518, dtype: float64"
     },
     "execution_count": 348,
     "metadata": {},
     "output_type": "execute_result"
    }
   ],
   "source": [
    "pca = PCA(n_components=1)\n",
    "components = pca.fit_transform(merge[[\"Z_score_permisadas\",\"Z_score_SUP_CONST\"]])\n",
    "merge[\"IND_actividad\"] = components\n",
    "merge[\"IND_actividad\"].array\n",
    "\n",
    "#pd.to_excel(\"Indice_actividad.xlsx\")"
   ],
   "metadata": {
    "collapsed": false
   }
  },
  {
   "cell_type": "code",
   "execution_count": 349,
   "outputs": [
    {
     "data": {
      "text/plain": "                        permisadas   SUP_CONST  Z_score_permisadas  \\\nBARRIOS           ANIO                                               \nNUÑEZ             2022          49  400002.080            1.842129   \nAGRONOMIA         2022           7   13857.770            0.521168   \nVERSALLES         2022          11    9007.670            1.835846   \nBELGRANO          2022          63  178180.800            1.209007   \nVILLA RIACHUELO   2022           6   10891.620            0.312348   \nVILLA REAL        2022           6    3810.430            1.185854   \nCONSTITUCION      2022           8   26335.740            0.697290   \nVILLA GRAL. MITRE 2022          19   12877.690            1.359742   \nSAAVEDRA          2022          56   63730.300            0.976684   \nVILLA LURO        2022          21   35883.840            0.029949   \nMATADEROS         2022          30   27393.430            0.161697   \nPALERMO           2022          96  266299.880            0.306987   \nVILLA ORTUZAR     2022          18   23200.760            0.565450   \nVILLA CRESPO      2022          40   79465.240            0.318309   \nVILLA DEL PARQUE  2022          30   46832.404            0.218557   \nCOGHLAN           2022          15   18014.330            0.330555   \nVILLA DEVOTO      2022          56   61688.770            0.301155   \nVILLA LUGANO      2022          15   15503.810            0.179575   \nPATERNAL          2022           8    5250.140            0.269002   \nCHACARITA         2022          17   34429.920           -0.070853   \nCOLEGIALES        2022          18   56969.210           -0.602599   \nFLORES            2022          50   65722.530           -0.101141   \nPARQUE CHAS       2022          14   12961.010           -0.182827   \nMONSERRAT         2022           6   18815.580            0.066741   \nMONTE CASTRO      2022          15   17307.020           -0.418537   \nLINIERS           2022          26   20273.610           -0.200573   \nVILLA SANTA RITA  2022          16   18964.420           -0.428016   \nBOEDO             2022          15   22200.580           -0.351095   \nVILLA URQUIZA     2022          66   80030.290           -0.253162   \nVILLA SOLDATI     2022           1   13271.650           -0.805783   \nVELEZ SARSFIELD   2022           9    9602.230           -0.569174   \nRECOLETA          2022          16   44360.110           -0.683348   \nPARQUE AVELLANEDA 2022           5    3515.920           -0.608034   \nFLORESTA          2022          15   10303.240           -0.603060   \nSAN CRISTOBAL     2022          10   17251.360           -0.692029   \nVILLA PUEYRREDON  2022          15   10655.530           -0.636011   \nCABALLITO         2022          40   86246.030           -0.887189   \nALMAGRO           2022          20   47898.970           -0.880572   \nBALVANERA         2022          13   38653.890           -1.221280   \nPARQUE PATRICIOS  2022           5   16265.430           -1.152627   \nBARRACAS          2022           5    6418.770           -1.223441   \nNUEVA POMPEYA     2022           2    1110.980           -1.322876   \nBOCA              2022           1    1025.410           -1.218544   \nSAN NICOLAS       2022           2    3258.060           -1.267449   \nPARQUE CHACABUCO  2022           7   12044.950           -1.298073   \nRETIRO            2022           2    5214.710           -1.143544   \n\n                        Z_score_SUP_CONST  IND_actividad  \nBARRIOS           ANIO                                    \nNUÑEZ             2022           2.538898       3.097854  \nAGRONOMIA         2022           2.302639       1.996733  \nVERSALLES         2022           0.704835       1.796533  \nBELGRANO          2022           0.903590       1.493832  \nVILLA RIACHUELO   2022           1.675451       1.405586  \nVILLA REAL        2022           0.709637       1.340314  \nCONSTITUCION      2022           0.666399       0.964274  \nVILLA GRAL. MITRE 2022          -0.207602       0.814687  \nSAAVEDRA          2022          -0.000257       0.690439  \nVILLA LURO        2022           0.592962       0.440465  \nMATADEROS         2022           0.450185       0.432666  \nPALERMO           2022           0.260638       0.401371  \nVILLA ORTUZAR     2022          -0.010738       0.392241  \nVILLA CRESPO      2022           0.208786       0.372713  \nVILLA DEL PARQUE  2022           0.195222       0.292586  \nCOGHLAN           2022           0.026301       0.252335  \nVILLA DEVOTO      2022          -0.128556       0.122046  \nVILLA LUGANO      2022          -0.400842      -0.156459  \nPATERNAL          2022          -0.552067      -0.200157  \nCHACARITA         2022          -0.341001      -0.291224  \nCOLEGIALES        2022           0.159960      -0.312993  \nFLORES            2022          -0.448984      -0.388998  \nPARQUE CHAS       2022          -0.422998      -0.428383  \nMONSERRAT         2022          -0.844114      -0.549686  \nMONTE CASTRO      2022          -0.379363      -0.564200  \nLINIERS           2022          -0.602940      -0.568169  \nVILLA SANTA RITA  2022          -0.438606      -0.612795  \nBOEDO             2022          -0.600590      -0.672943  \nVILLA URQUIZA     2022          -0.794285      -0.740657  \nVILLA SOLDATI     2022          -0.375769      -0.835483  \nVELEZ SARSFIELD   2022          -0.614421      -0.836928  \nRECOLETA          2022          -0.544237      -0.868034  \nPARQUE AVELLANEDA 2022          -0.679083      -0.910129  \nFLORESTA          2022          -0.792235      -0.986623  \nSAN CRISTOBAL     2022          -0.708364      -0.990227  \nVILLA PUEYRREDON  2022          -0.837549      -1.041964  \nCABALLITO         2022          -0.591428      -1.045540  \nALMAGRO           2022          -0.893038      -1.254132  \nBALVANERA         2022          -0.739605      -1.386555  \nPARQUE PATRICIOS  2022          -0.825120      -1.398478  \nBARRACAS          2022          -0.803772      -1.433456  \nNUEVA POMPEYA     2022          -0.868088      -1.549245  \nBOCA              2022          -1.011586      -1.576940  \nSAN NICOLAS       2022          -1.163355      -1.718838  \nPARQUE CHACABUCO  2022          -1.298819      -1.836280  \nRETIRO            2022          -1.594436      -1.936044  ",
      "text/html": "<div>\n<style scoped>\n    .dataframe tbody tr th:only-of-type {\n        vertical-align: middle;\n    }\n\n    .dataframe tbody tr th {\n        vertical-align: top;\n    }\n\n    .dataframe thead th {\n        text-align: right;\n    }\n</style>\n<table border=\"1\" class=\"dataframe\">\n  <thead>\n    <tr style=\"text-align: right;\">\n      <th></th>\n      <th></th>\n      <th>permisadas</th>\n      <th>SUP_CONST</th>\n      <th>Z_score_permisadas</th>\n      <th>Z_score_SUP_CONST</th>\n      <th>IND_actividad</th>\n    </tr>\n    <tr>\n      <th>BARRIOS</th>\n      <th>ANIO</th>\n      <th></th>\n      <th></th>\n      <th></th>\n      <th></th>\n      <th></th>\n    </tr>\n  </thead>\n  <tbody>\n    <tr>\n      <th>NUÑEZ</th>\n      <th>2022</th>\n      <td>49</td>\n      <td>400002.080</td>\n      <td>1.842129</td>\n      <td>2.538898</td>\n      <td>3.097854</td>\n    </tr>\n    <tr>\n      <th>AGRONOMIA</th>\n      <th>2022</th>\n      <td>7</td>\n      <td>13857.770</td>\n      <td>0.521168</td>\n      <td>2.302639</td>\n      <td>1.996733</td>\n    </tr>\n    <tr>\n      <th>VERSALLES</th>\n      <th>2022</th>\n      <td>11</td>\n      <td>9007.670</td>\n      <td>1.835846</td>\n      <td>0.704835</td>\n      <td>1.796533</td>\n    </tr>\n    <tr>\n      <th>BELGRANO</th>\n      <th>2022</th>\n      <td>63</td>\n      <td>178180.800</td>\n      <td>1.209007</td>\n      <td>0.903590</td>\n      <td>1.493832</td>\n    </tr>\n    <tr>\n      <th>VILLA RIACHUELO</th>\n      <th>2022</th>\n      <td>6</td>\n      <td>10891.620</td>\n      <td>0.312348</td>\n      <td>1.675451</td>\n      <td>1.405586</td>\n    </tr>\n    <tr>\n      <th>VILLA REAL</th>\n      <th>2022</th>\n      <td>6</td>\n      <td>3810.430</td>\n      <td>1.185854</td>\n      <td>0.709637</td>\n      <td>1.340314</td>\n    </tr>\n    <tr>\n      <th>CONSTITUCION</th>\n      <th>2022</th>\n      <td>8</td>\n      <td>26335.740</td>\n      <td>0.697290</td>\n      <td>0.666399</td>\n      <td>0.964274</td>\n    </tr>\n    <tr>\n      <th>VILLA GRAL. MITRE</th>\n      <th>2022</th>\n      <td>19</td>\n      <td>12877.690</td>\n      <td>1.359742</td>\n      <td>-0.207602</td>\n      <td>0.814687</td>\n    </tr>\n    <tr>\n      <th>SAAVEDRA</th>\n      <th>2022</th>\n      <td>56</td>\n      <td>63730.300</td>\n      <td>0.976684</td>\n      <td>-0.000257</td>\n      <td>0.690439</td>\n    </tr>\n    <tr>\n      <th>VILLA LURO</th>\n      <th>2022</th>\n      <td>21</td>\n      <td>35883.840</td>\n      <td>0.029949</td>\n      <td>0.592962</td>\n      <td>0.440465</td>\n    </tr>\n    <tr>\n      <th>MATADEROS</th>\n      <th>2022</th>\n      <td>30</td>\n      <td>27393.430</td>\n      <td>0.161697</td>\n      <td>0.450185</td>\n      <td>0.432666</td>\n    </tr>\n    <tr>\n      <th>PALERMO</th>\n      <th>2022</th>\n      <td>96</td>\n      <td>266299.880</td>\n      <td>0.306987</td>\n      <td>0.260638</td>\n      <td>0.401371</td>\n    </tr>\n    <tr>\n      <th>VILLA ORTUZAR</th>\n      <th>2022</th>\n      <td>18</td>\n      <td>23200.760</td>\n      <td>0.565450</td>\n      <td>-0.010738</td>\n      <td>0.392241</td>\n    </tr>\n    <tr>\n      <th>VILLA CRESPO</th>\n      <th>2022</th>\n      <td>40</td>\n      <td>79465.240</td>\n      <td>0.318309</td>\n      <td>0.208786</td>\n      <td>0.372713</td>\n    </tr>\n    <tr>\n      <th>VILLA DEL PARQUE</th>\n      <th>2022</th>\n      <td>30</td>\n      <td>46832.404</td>\n      <td>0.218557</td>\n      <td>0.195222</td>\n      <td>0.292586</td>\n    </tr>\n    <tr>\n      <th>COGHLAN</th>\n      <th>2022</th>\n      <td>15</td>\n      <td>18014.330</td>\n      <td>0.330555</td>\n      <td>0.026301</td>\n      <td>0.252335</td>\n    </tr>\n    <tr>\n      <th>VILLA DEVOTO</th>\n      <th>2022</th>\n      <td>56</td>\n      <td>61688.770</td>\n      <td>0.301155</td>\n      <td>-0.128556</td>\n      <td>0.122046</td>\n    </tr>\n    <tr>\n      <th>VILLA LUGANO</th>\n      <th>2022</th>\n      <td>15</td>\n      <td>15503.810</td>\n      <td>0.179575</td>\n      <td>-0.400842</td>\n      <td>-0.156459</td>\n    </tr>\n    <tr>\n      <th>PATERNAL</th>\n      <th>2022</th>\n      <td>8</td>\n      <td>5250.140</td>\n      <td>0.269002</td>\n      <td>-0.552067</td>\n      <td>-0.200157</td>\n    </tr>\n    <tr>\n      <th>CHACARITA</th>\n      <th>2022</th>\n      <td>17</td>\n      <td>34429.920</td>\n      <td>-0.070853</td>\n      <td>-0.341001</td>\n      <td>-0.291224</td>\n    </tr>\n    <tr>\n      <th>COLEGIALES</th>\n      <th>2022</th>\n      <td>18</td>\n      <td>56969.210</td>\n      <td>-0.602599</td>\n      <td>0.159960</td>\n      <td>-0.312993</td>\n    </tr>\n    <tr>\n      <th>FLORES</th>\n      <th>2022</th>\n      <td>50</td>\n      <td>65722.530</td>\n      <td>-0.101141</td>\n      <td>-0.448984</td>\n      <td>-0.388998</td>\n    </tr>\n    <tr>\n      <th>PARQUE CHAS</th>\n      <th>2022</th>\n      <td>14</td>\n      <td>12961.010</td>\n      <td>-0.182827</td>\n      <td>-0.422998</td>\n      <td>-0.428383</td>\n    </tr>\n    <tr>\n      <th>MONSERRAT</th>\n      <th>2022</th>\n      <td>6</td>\n      <td>18815.580</td>\n      <td>0.066741</td>\n      <td>-0.844114</td>\n      <td>-0.549686</td>\n    </tr>\n    <tr>\n      <th>MONTE CASTRO</th>\n      <th>2022</th>\n      <td>15</td>\n      <td>17307.020</td>\n      <td>-0.418537</td>\n      <td>-0.379363</td>\n      <td>-0.564200</td>\n    </tr>\n    <tr>\n      <th>LINIERS</th>\n      <th>2022</th>\n      <td>26</td>\n      <td>20273.610</td>\n      <td>-0.200573</td>\n      <td>-0.602940</td>\n      <td>-0.568169</td>\n    </tr>\n    <tr>\n      <th>VILLA SANTA RITA</th>\n      <th>2022</th>\n      <td>16</td>\n      <td>18964.420</td>\n      <td>-0.428016</td>\n      <td>-0.438606</td>\n      <td>-0.612795</td>\n    </tr>\n    <tr>\n      <th>BOEDO</th>\n      <th>2022</th>\n      <td>15</td>\n      <td>22200.580</td>\n      <td>-0.351095</td>\n      <td>-0.600590</td>\n      <td>-0.672943</td>\n    </tr>\n    <tr>\n      <th>VILLA URQUIZA</th>\n      <th>2022</th>\n      <td>66</td>\n      <td>80030.290</td>\n      <td>-0.253162</td>\n      <td>-0.794285</td>\n      <td>-0.740657</td>\n    </tr>\n    <tr>\n      <th>VILLA SOLDATI</th>\n      <th>2022</th>\n      <td>1</td>\n      <td>13271.650</td>\n      <td>-0.805783</td>\n      <td>-0.375769</td>\n      <td>-0.835483</td>\n    </tr>\n    <tr>\n      <th>VELEZ SARSFIELD</th>\n      <th>2022</th>\n      <td>9</td>\n      <td>9602.230</td>\n      <td>-0.569174</td>\n      <td>-0.614421</td>\n      <td>-0.836928</td>\n    </tr>\n    <tr>\n      <th>RECOLETA</th>\n      <th>2022</th>\n      <td>16</td>\n      <td>44360.110</td>\n      <td>-0.683348</td>\n      <td>-0.544237</td>\n      <td>-0.868034</td>\n    </tr>\n    <tr>\n      <th>PARQUE AVELLANEDA</th>\n      <th>2022</th>\n      <td>5</td>\n      <td>3515.920</td>\n      <td>-0.608034</td>\n      <td>-0.679083</td>\n      <td>-0.910129</td>\n    </tr>\n    <tr>\n      <th>FLORESTA</th>\n      <th>2022</th>\n      <td>15</td>\n      <td>10303.240</td>\n      <td>-0.603060</td>\n      <td>-0.792235</td>\n      <td>-0.986623</td>\n    </tr>\n    <tr>\n      <th>SAN CRISTOBAL</th>\n      <th>2022</th>\n      <td>10</td>\n      <td>17251.360</td>\n      <td>-0.692029</td>\n      <td>-0.708364</td>\n      <td>-0.990227</td>\n    </tr>\n    <tr>\n      <th>VILLA PUEYRREDON</th>\n      <th>2022</th>\n      <td>15</td>\n      <td>10655.530</td>\n      <td>-0.636011</td>\n      <td>-0.837549</td>\n      <td>-1.041964</td>\n    </tr>\n    <tr>\n      <th>CABALLITO</th>\n      <th>2022</th>\n      <td>40</td>\n      <td>86246.030</td>\n      <td>-0.887189</td>\n      <td>-0.591428</td>\n      <td>-1.045540</td>\n    </tr>\n    <tr>\n      <th>ALMAGRO</th>\n      <th>2022</th>\n      <td>20</td>\n      <td>47898.970</td>\n      <td>-0.880572</td>\n      <td>-0.893038</td>\n      <td>-1.254132</td>\n    </tr>\n    <tr>\n      <th>BALVANERA</th>\n      <th>2022</th>\n      <td>13</td>\n      <td>38653.890</td>\n      <td>-1.221280</td>\n      <td>-0.739605</td>\n      <td>-1.386555</td>\n    </tr>\n    <tr>\n      <th>PARQUE PATRICIOS</th>\n      <th>2022</th>\n      <td>5</td>\n      <td>16265.430</td>\n      <td>-1.152627</td>\n      <td>-0.825120</td>\n      <td>-1.398478</td>\n    </tr>\n    <tr>\n      <th>BARRACAS</th>\n      <th>2022</th>\n      <td>5</td>\n      <td>6418.770</td>\n      <td>-1.223441</td>\n      <td>-0.803772</td>\n      <td>-1.433456</td>\n    </tr>\n    <tr>\n      <th>NUEVA POMPEYA</th>\n      <th>2022</th>\n      <td>2</td>\n      <td>1110.980</td>\n      <td>-1.322876</td>\n      <td>-0.868088</td>\n      <td>-1.549245</td>\n    </tr>\n    <tr>\n      <th>BOCA</th>\n      <th>2022</th>\n      <td>1</td>\n      <td>1025.410</td>\n      <td>-1.218544</td>\n      <td>-1.011586</td>\n      <td>-1.576940</td>\n    </tr>\n    <tr>\n      <th>SAN NICOLAS</th>\n      <th>2022</th>\n      <td>2</td>\n      <td>3258.060</td>\n      <td>-1.267449</td>\n      <td>-1.163355</td>\n      <td>-1.718838</td>\n    </tr>\n    <tr>\n      <th>PARQUE CHACABUCO</th>\n      <th>2022</th>\n      <td>7</td>\n      <td>12044.950</td>\n      <td>-1.298073</td>\n      <td>-1.298819</td>\n      <td>-1.836280</td>\n    </tr>\n    <tr>\n      <th>RETIRO</th>\n      <th>2022</th>\n      <td>2</td>\n      <td>5214.710</td>\n      <td>-1.143544</td>\n      <td>-1.594436</td>\n      <td>-1.936044</td>\n    </tr>\n  </tbody>\n</table>\n</div>"
     },
     "execution_count": 349,
     "metadata": {},
     "output_type": "execute_result"
    }
   ],
   "source": [
    "mask = merge.index.get_level_values(1) == 2022\n",
    "merge[mask].sort_values(by=\"IND_actividad\",ascending=False)"
   ],
   "metadata": {
    "collapsed": false
   }
  },
  {
   "cell_type": "code",
   "execution_count": 350,
   "outputs": [
    {
     "name": "stderr",
     "output_type": "stream",
     "text": [
      "/var/folders/d3/r414kbwd72g3nnhvylz22y9m0000gp/T/ipykernel_29038/2833327811.py:14: FutureWarning: Not prepending group keys to the result index of transform-like apply. In the future, the group keys will be included in the index, regardless of whether the applied function returns a like-indexed object.\n",
      "To preserve the previous behavior, use\n",
      "\n",
      "\t>>> .groupby(..., group_keys=False)\n",
      "\n",
      "To adopt the future behavior and silence this warning, use \n",
      "\n",
      "\t>>> .groupby(..., group_keys=True)\n",
      "  result = merge.groupby(level=0).apply(linear_regression)\n"
     ]
    }
   ],
   "source": [
    "def linear_regression(group):\n",
    "    reg = LinearRegression()\n",
    "    X = group.index.get_level_values(1).values.reshape(-1, 1)  # Access the independent variable from the index\n",
    "    y = group[\"IND_actividad\"]\n",
    "    reg.fit(X, y)\n",
    "    group['pendiente'] = reg.coef_[0]\n",
    "    #group[\"error\"] = reg.error\n",
    "    #y_pred = reg.predict(X)\n",
    "    #error = mean_squared_error(y, y_pred)\n",
    "    return group\n",
    "\n",
    "\n",
    "\n",
    "result = merge.groupby(level=0).apply(linear_regression)\n",
    "#result.groupby(level=0)[\"pendiente\"].mean().sort_values(ascending=False)\n",
    "#result.to_excel(\"Indice_actividad.xlsx\")"
   ],
   "metadata": {
    "collapsed": false
   }
  },
  {
   "cell_type": "code",
   "execution_count": 351,
   "outputs": [
    {
     "name": "stderr",
     "output_type": "stream",
     "text": [
      "/var/folders/d3/r414kbwd72g3nnhvylz22y9m0000gp/T/ipykernel_29038/1304848073.py:7: UserWarning: Column names longer than 10 characters will be truncated when saved to ESRI Shapefile.\n",
      "  merged_gdf.to_file(r\"/Users/santi/Desktop/Shape/gdf.shp\")\n"
     ]
    }
   ],
   "source": [
    "gdf = gpd.read_file(\"https://cdn.buenosaires.gob.ar/datosabiertos/datasets/ministerio-de-educacion/barrios/barrios.geojson\")\n",
    "result_copy = result.reset_index()\n",
    "merged_gdf = gpd.GeoDataFrame(pd.merge(result_copy, gdf, left_on='BARRIOS',right_on=\"BARRIO\"))\n",
    "\n",
    "merged_gdf\n",
    "\n",
    "merged_gdf.to_file(r\"/Users/santi/Desktop/Shape/gdf.shp\")"
   ],
   "metadata": {
    "collapsed": false
   }
  },
  {
   "cell_type": "code",
   "execution_count": 352,
   "outputs": [
    {
     "data": {
      "text/plain": "           BARRIOS  ANIO  permisadas  SUP_CONST  Z_score_permisadas  \\\n0        AGRONOMIA  2012           8    5905.91            0.858395   \n1        AGRONOMIA  2013           6    2156.21            0.183942   \n2        AGRONOMIA  2014           3    5551.22           -0.827738   \n3        AGRONOMIA  2015           3    2972.95           -0.827738   \n4        AGRONOMIA  2016          10    9653.52            1.532848   \n..             ...   ...         ...        ...                 ...   \n513  VILLA URQUIZA  2018         110  207948.88            1.359079   \n514  VILLA URQUIZA  2019          83  128606.66            0.369749   \n515  VILLA URQUIZA  2020          10   14376.06           -2.305105   \n516  VILLA URQUIZA  2021          48   95615.00           -0.912715   \n517  VILLA URQUIZA  2022          66   80030.29           -0.253162   \n\n     Z_score_SUP_CONST  IND_actividad  pendiente  COMUNA  \n0             0.221763       0.763787  -0.022998    15.0  \n1            -0.759475      -0.406963  -0.022998    15.0  \n2             0.128946      -0.494121  -0.022998    15.0  \n3            -0.545747      -0.971200  -0.022998    15.0  \n4             1.202453       1.934150  -0.022998    15.0  \n..                 ...            ...        ...     ...  \n513           1.836874       2.259880  -0.225560    12.0  \n514           0.204883       0.406326  -0.225560    12.0  \n515          -2.144728      -3.146507  -0.225560    12.0  \n516          -0.473723      -0.980360  -0.225560    12.0  \n517          -0.794285      -0.740657  -0.225560    12.0  \n\n[518 rows x 9 columns]",
      "text/html": "<div>\n<style scoped>\n    .dataframe tbody tr th:only-of-type {\n        vertical-align: middle;\n    }\n\n    .dataframe tbody tr th {\n        vertical-align: top;\n    }\n\n    .dataframe thead th {\n        text-align: right;\n    }\n</style>\n<table border=\"1\" class=\"dataframe\">\n  <thead>\n    <tr style=\"text-align: right;\">\n      <th></th>\n      <th>BARRIOS</th>\n      <th>ANIO</th>\n      <th>permisadas</th>\n      <th>SUP_CONST</th>\n      <th>Z_score_permisadas</th>\n      <th>Z_score_SUP_CONST</th>\n      <th>IND_actividad</th>\n      <th>pendiente</th>\n      <th>COMUNA</th>\n    </tr>\n  </thead>\n  <tbody>\n    <tr>\n      <th>0</th>\n      <td>AGRONOMIA</td>\n      <td>2012</td>\n      <td>8</td>\n      <td>5905.91</td>\n      <td>0.858395</td>\n      <td>0.221763</td>\n      <td>0.763787</td>\n      <td>-0.022998</td>\n      <td>15.0</td>\n    </tr>\n    <tr>\n      <th>1</th>\n      <td>AGRONOMIA</td>\n      <td>2013</td>\n      <td>6</td>\n      <td>2156.21</td>\n      <td>0.183942</td>\n      <td>-0.759475</td>\n      <td>-0.406963</td>\n      <td>-0.022998</td>\n      <td>15.0</td>\n    </tr>\n    <tr>\n      <th>2</th>\n      <td>AGRONOMIA</td>\n      <td>2014</td>\n      <td>3</td>\n      <td>5551.22</td>\n      <td>-0.827738</td>\n      <td>0.128946</td>\n      <td>-0.494121</td>\n      <td>-0.022998</td>\n      <td>15.0</td>\n    </tr>\n    <tr>\n      <th>3</th>\n      <td>AGRONOMIA</td>\n      <td>2015</td>\n      <td>3</td>\n      <td>2972.95</td>\n      <td>-0.827738</td>\n      <td>-0.545747</td>\n      <td>-0.971200</td>\n      <td>-0.022998</td>\n      <td>15.0</td>\n    </tr>\n    <tr>\n      <th>4</th>\n      <td>AGRONOMIA</td>\n      <td>2016</td>\n      <td>10</td>\n      <td>9653.52</td>\n      <td>1.532848</td>\n      <td>1.202453</td>\n      <td>1.934150</td>\n      <td>-0.022998</td>\n      <td>15.0</td>\n    </tr>\n    <tr>\n      <th>...</th>\n      <td>...</td>\n      <td>...</td>\n      <td>...</td>\n      <td>...</td>\n      <td>...</td>\n      <td>...</td>\n      <td>...</td>\n      <td>...</td>\n      <td>...</td>\n    </tr>\n    <tr>\n      <th>513</th>\n      <td>VILLA URQUIZA</td>\n      <td>2018</td>\n      <td>110</td>\n      <td>207948.88</td>\n      <td>1.359079</td>\n      <td>1.836874</td>\n      <td>2.259880</td>\n      <td>-0.225560</td>\n      <td>12.0</td>\n    </tr>\n    <tr>\n      <th>514</th>\n      <td>VILLA URQUIZA</td>\n      <td>2019</td>\n      <td>83</td>\n      <td>128606.66</td>\n      <td>0.369749</td>\n      <td>0.204883</td>\n      <td>0.406326</td>\n      <td>-0.225560</td>\n      <td>12.0</td>\n    </tr>\n    <tr>\n      <th>515</th>\n      <td>VILLA URQUIZA</td>\n      <td>2020</td>\n      <td>10</td>\n      <td>14376.06</td>\n      <td>-2.305105</td>\n      <td>-2.144728</td>\n      <td>-3.146507</td>\n      <td>-0.225560</td>\n      <td>12.0</td>\n    </tr>\n    <tr>\n      <th>516</th>\n      <td>VILLA URQUIZA</td>\n      <td>2021</td>\n      <td>48</td>\n      <td>95615.00</td>\n      <td>-0.912715</td>\n      <td>-0.473723</td>\n      <td>-0.980360</td>\n      <td>-0.225560</td>\n      <td>12.0</td>\n    </tr>\n    <tr>\n      <th>517</th>\n      <td>VILLA URQUIZA</td>\n      <td>2022</td>\n      <td>66</td>\n      <td>80030.29</td>\n      <td>-0.253162</td>\n      <td>-0.794285</td>\n      <td>-0.740657</td>\n      <td>-0.225560</td>\n      <td>12.0</td>\n    </tr>\n  </tbody>\n</table>\n<p>518 rows × 9 columns</p>\n</div>"
     },
     "execution_count": 352,
     "metadata": {},
     "output_type": "execute_result"
    }
   ],
   "source": [
    "gdf = gpd.read_file(\"https://cdn.buenosaires.gob.ar/datosabiertos/datasets/ministerio-de-educacion/barrios/barrios.geojson\")\n",
    "gdf\n",
    "result = result.reset_index().merge(gdf, left_on='BARRIOS', right_on='BARRIO')\n",
    "#result.set_index(['BARRIOS', 'ANIO'], inplace=True)\n",
    "result = result.iloc[:, :10]\n",
    "result.drop(columns=\"BARRIO\",inplace=True)\n",
    "result"
   ],
   "metadata": {
    "collapsed": false
   }
  },
  {
   "cell_type": "code",
   "execution_count": 353,
   "outputs": [],
   "source": [
    "result.to_excel(\"/Users/santi/Desktop/Work/Bases/barrios_relativo.xlsx\")"
   ],
   "metadata": {
    "collapsed": false
   }
  },
  {
   "cell_type": "code",
   "execution_count": 354,
   "outputs": [
    {
     "ename": "KeyError",
     "evalue": "'PERIMETRO'",
     "output_type": "error",
     "traceback": [
      "\u001B[0;31m---------------------------------------------------------------------------\u001B[0m",
      "\u001B[0;31mKeyError\u001B[0m                                  Traceback (most recent call last)",
      "File \u001B[0;32m~/miniconda3/lib/python3.10/site-packages/pandas/core/indexes/base.py:3802\u001B[0m, in \u001B[0;36mIndex.get_loc\u001B[0;34m(self, key, method, tolerance)\u001B[0m\n\u001B[1;32m   3801\u001B[0m \u001B[38;5;28;01mtry\u001B[39;00m:\n\u001B[0;32m-> 3802\u001B[0m     \u001B[38;5;28;01mreturn\u001B[39;00m \u001B[38;5;28;43mself\u001B[39;49m\u001B[38;5;241;43m.\u001B[39;49m\u001B[43m_engine\u001B[49m\u001B[38;5;241;43m.\u001B[39;49m\u001B[43mget_loc\u001B[49m\u001B[43m(\u001B[49m\u001B[43mcasted_key\u001B[49m\u001B[43m)\u001B[49m\n\u001B[1;32m   3803\u001B[0m \u001B[38;5;28;01mexcept\u001B[39;00m \u001B[38;5;167;01mKeyError\u001B[39;00m \u001B[38;5;28;01mas\u001B[39;00m err:\n",
      "File \u001B[0;32m~/miniconda3/lib/python3.10/site-packages/pandas/_libs/index.pyx:138\u001B[0m, in \u001B[0;36mpandas._libs.index.IndexEngine.get_loc\u001B[0;34m()\u001B[0m\n",
      "File \u001B[0;32m~/miniconda3/lib/python3.10/site-packages/pandas/_libs/index.pyx:165\u001B[0m, in \u001B[0;36mpandas._libs.index.IndexEngine.get_loc\u001B[0;34m()\u001B[0m\n",
      "File \u001B[0;32mpandas/_libs/hashtable_class_helper.pxi:5745\u001B[0m, in \u001B[0;36mpandas._libs.hashtable.PyObjectHashTable.get_item\u001B[0;34m()\u001B[0m\n",
      "File \u001B[0;32mpandas/_libs/hashtable_class_helper.pxi:5753\u001B[0m, in \u001B[0;36mpandas._libs.hashtable.PyObjectHashTable.get_item\u001B[0;34m()\u001B[0m\n",
      "\u001B[0;31mKeyError\u001B[0m: 'PERIMETRO'",
      "\nThe above exception was the direct cause of the following exception:\n",
      "\u001B[0;31mKeyError\u001B[0m                                  Traceback (most recent call last)",
      "Cell \u001B[0;32mIn[354], line 4\u001B[0m\n\u001B[1;32m      1\u001B[0m barrios \u001B[38;5;241m=\u001B[39m result\u001B[38;5;241m.\u001B[39mreset_index()\n\u001B[1;32m      2\u001B[0m barrios \u001B[38;5;241m=\u001B[39m barrios[barrios[\u001B[38;5;124m\"\u001B[39m\u001B[38;5;124mANIO\u001B[39m\u001B[38;5;124m\"\u001B[39m] \u001B[38;5;241m==\u001B[39m \u001B[38;5;241m2022\u001B[39m]\n\u001B[0;32m----> 4\u001B[0m barrios[\u001B[38;5;124m\"\u001B[39m\u001B[38;5;124mdensidad\u001B[39m\u001B[38;5;124m\"\u001B[39m] \u001B[38;5;241m=\u001B[39m barrios[\u001B[38;5;124m\"\u001B[39m\u001B[38;5;124mSUP_CONST\u001B[39m\u001B[38;5;124m\"\u001B[39m]\u001B[38;5;241m/\u001B[39m(\u001B[43mbarrios\u001B[49m\u001B[43m[\u001B[49m\u001B[38;5;124;43m\"\u001B[39;49m\u001B[38;5;124;43mPERIMETRO\u001B[39;49m\u001B[38;5;124;43m\"\u001B[39;49m\u001B[43m]\u001B[49m\u001B[38;5;241m/\u001B[39m\u001B[38;5;241m100\u001B[39m)\n\u001B[1;32m      7\u001B[0m barrios \u001B[38;5;241m=\u001B[39m barrios[[\u001B[38;5;124m\"\u001B[39m\u001B[38;5;124mBARRIOS\u001B[39m\u001B[38;5;124m\"\u001B[39m,\u001B[38;5;124m\"\u001B[39m\u001B[38;5;124mpermisadas\u001B[39m\u001B[38;5;124m\"\u001B[39m,\u001B[38;5;124m\"\u001B[39m\u001B[38;5;124mSUP_CONST\u001B[39m\u001B[38;5;124m\"\u001B[39m,\u001B[38;5;124m\"\u001B[39m\u001B[38;5;124mgeometry\u001B[39m\u001B[38;5;124m\"\u001B[39m,\u001B[38;5;124m\"\u001B[39m\u001B[38;5;124mdensidad\u001B[39m\u001B[38;5;124m\"\u001B[39m]]\n\u001B[1;32m      8\u001B[0m barrios[\u001B[38;5;124m\"\u001B[39m\u001B[38;5;124mtamaño\u001B[39m\u001B[38;5;124m\"\u001B[39m] \u001B[38;5;241m=\u001B[39m barrios[\u001B[38;5;124m\"\u001B[39m\u001B[38;5;124mSUP_CONST\u001B[39m\u001B[38;5;124m\"\u001B[39m]\u001B[38;5;241m/\u001B[39m(barrios[\u001B[38;5;124m\"\u001B[39m\u001B[38;5;124mpermisadas\u001B[39m\u001B[38;5;124m\"\u001B[39m])\n",
      "File \u001B[0;32m~/miniconda3/lib/python3.10/site-packages/pandas/core/frame.py:3807\u001B[0m, in \u001B[0;36mDataFrame.__getitem__\u001B[0;34m(self, key)\u001B[0m\n\u001B[1;32m   3805\u001B[0m \u001B[38;5;28;01mif\u001B[39;00m \u001B[38;5;28mself\u001B[39m\u001B[38;5;241m.\u001B[39mcolumns\u001B[38;5;241m.\u001B[39mnlevels \u001B[38;5;241m>\u001B[39m \u001B[38;5;241m1\u001B[39m:\n\u001B[1;32m   3806\u001B[0m     \u001B[38;5;28;01mreturn\u001B[39;00m \u001B[38;5;28mself\u001B[39m\u001B[38;5;241m.\u001B[39m_getitem_multilevel(key)\n\u001B[0;32m-> 3807\u001B[0m indexer \u001B[38;5;241m=\u001B[39m \u001B[38;5;28;43mself\u001B[39;49m\u001B[38;5;241;43m.\u001B[39;49m\u001B[43mcolumns\u001B[49m\u001B[38;5;241;43m.\u001B[39;49m\u001B[43mget_loc\u001B[49m\u001B[43m(\u001B[49m\u001B[43mkey\u001B[49m\u001B[43m)\u001B[49m\n\u001B[1;32m   3808\u001B[0m \u001B[38;5;28;01mif\u001B[39;00m is_integer(indexer):\n\u001B[1;32m   3809\u001B[0m     indexer \u001B[38;5;241m=\u001B[39m [indexer]\n",
      "File \u001B[0;32m~/miniconda3/lib/python3.10/site-packages/pandas/core/indexes/base.py:3804\u001B[0m, in \u001B[0;36mIndex.get_loc\u001B[0;34m(self, key, method, tolerance)\u001B[0m\n\u001B[1;32m   3802\u001B[0m     \u001B[38;5;28;01mreturn\u001B[39;00m \u001B[38;5;28mself\u001B[39m\u001B[38;5;241m.\u001B[39m_engine\u001B[38;5;241m.\u001B[39mget_loc(casted_key)\n\u001B[1;32m   3803\u001B[0m \u001B[38;5;28;01mexcept\u001B[39;00m \u001B[38;5;167;01mKeyError\u001B[39;00m \u001B[38;5;28;01mas\u001B[39;00m err:\n\u001B[0;32m-> 3804\u001B[0m     \u001B[38;5;28;01mraise\u001B[39;00m \u001B[38;5;167;01mKeyError\u001B[39;00m(key) \u001B[38;5;28;01mfrom\u001B[39;00m \u001B[38;5;21;01merr\u001B[39;00m\n\u001B[1;32m   3805\u001B[0m \u001B[38;5;28;01mexcept\u001B[39;00m \u001B[38;5;167;01mTypeError\u001B[39;00m:\n\u001B[1;32m   3806\u001B[0m     \u001B[38;5;66;03m# If we have a listlike key, _check_indexing_error will raise\u001B[39;00m\n\u001B[1;32m   3807\u001B[0m     \u001B[38;5;66;03m#  InvalidIndexError. Otherwise we fall through and re-raise\u001B[39;00m\n\u001B[1;32m   3808\u001B[0m     \u001B[38;5;66;03m#  the TypeError.\u001B[39;00m\n\u001B[1;32m   3809\u001B[0m     \u001B[38;5;28mself\u001B[39m\u001B[38;5;241m.\u001B[39m_check_indexing_error(key)\n",
      "\u001B[0;31mKeyError\u001B[0m: 'PERIMETRO'"
     ]
    }
   ],
   "source": [
    "barrios = result.reset_index()\n",
    "barrios = barrios[barrios[\"ANIO\"] == 2022]\n",
    "\n",
    "barrios[\"densidad\"] = barrios[\"SUP_CONST\"]/(barrios[\"PERIMETRO\"]/100)\n",
    "\n",
    "\n",
    "barrios = barrios[[\"BARRIOS\",\"permisadas\",\"SUP_CONST\",\"geometry\",\"densidad\"]]\n",
    "barrios[\"tamaño\"] = barrios[\"SUP_CONST\"]/(barrios[\"permisadas\"])\n",
    "\n",
    "\n",
    "barrios[\"Z_permisadas\"] = zscore(barrios[\"permisadas\"])\n",
    "barrios[\"Z_densidad\"] = zscore(barrios[\"densidad\"])\n",
    "\n",
    "pca = PCA(n_components=1)\n",
    "components = pca.fit_transform(barrios[[\"Z_permisadas\",\"Z_densidad\"]])\n",
    "barrios[\"IND_actividad\"] = components\n",
    "\n",
    "barrios['quantiles_tamaño'] = pd.qcut(barrios['tamaño'], q=5, labels=['1', '2', '3', '4',\"5\"])\n",
    "barrios['quartile_range_tamaño'] = pd.qcut(barrios['tamaño'], q=5,precision=0)\n",
    "\n",
    "barrios['quantiles_densidad'] = pd.qcut(barrios['densidad'], q=5, labels=['1', '2', '3', '4',\"5\"])\n",
    "barrios['quartile_range_densidad'] = pd.qcut(barrios['densidad'], q=5,precision=0)\n",
    "\n",
    "\n",
    "barrios['quantiles_permisos'] = pd.qcut(barrios['permisadas'], q=5, labels=['1', '2', '3', '4',\"5\"])\n",
    "barrios['quartile_range_permisadas'] = pd.qcut(barrios['permisadas'], q=5,precision=0)\n",
    "\n",
    "\n",
    "\n",
    "barrios['quantiles_sup'] = pd.qcut(barrios['SUP_CONST'], q=5, labels=['1', '2', '3', '4',\"5\"])\n",
    "barrios['quartile_range_sup'] = pd.qcut(barrios['SUP_CONST'], q=5,precision=0)\n",
    "\n",
    "\n",
    "\n",
    "barrios['quantiles_ind'] = pd.qcut(barrios['IND_actividad'], q=5, labels=['1', '2', '3', '4',\"5\"])\n",
    "barrios['quartile_range_ind'] = pd.qcut(barrios['IND_actividad'], q=5,precision=2)\n",
    "\n",
    "\n",
    "\n",
    "\n",
    "\n",
    "barrios.drop(columns=[\"Z_densidad\",\"Z_permisadas\"],inplace=True)\n",
    "\n",
    "barrios.reset_index(inplace=True,drop=True)\n",
    "\n",
    "columns_to_apply = [ \"quartile_range_sup\", \"quartile_range_permisadas\",\"quartile_range_densidad\",\"quartile_range_tamaño\"]\n",
    "\n",
    "\n",
    "barrios[columns_to_apply] = barrios[columns_to_apply].applymap(lambda x: re.sub(r\"\\.0\", \"\", str(x)).replace(\"]\", \")\"))\n",
    "barrios[\"quartile_range_ind\"] = barrios[\"quartile_range_ind\"].astype(str).str.replace(\"]\", \")\", regex=True)\n",
    "\n",
    "\n",
    "barrios[\"quartile_range_ind\"] = barrios[\"quantiles_ind\"].astype(str) + \": \" + barrios[\"quartile_range_ind\"].astype(str)\n",
    "barrios[\"quartile_range_sup\"] = barrios[\"quantiles_sup\"].astype(str) + \": \" + barrios[\"quartile_range_sup\"].astype(str)\n",
    "barrios[\"quartile_range_permisadas\"] = barrios[\"quantiles_permisos\"].astype(str) + \": \" + barrios[\"quartile_range_permisadas\"].astype(str)\n",
    "barrios[\"quartile_range_densidad\"] = barrios[\"quantiles_densidad\"].astype(str) + \": \" + barrios[\"quartile_range_densidad\"].astype(str)\n",
    "barrios[\"quartile_range_tamaño\"] = barrios[\"quantiles_tamaño\"].astype(str) + \": \" + barrios[\"quartile_range_tamaño\"].astype(str)\n",
    "\n",
    "\n",
    "\n",
    "barrios\n",
    "#barrios.to_excel(\"/Users/santi/Desktop/Work/Bases/Barrios_quartilico_obras_nuevas.xlsx\")"
   ],
   "metadata": {
    "collapsed": false
   }
  },
  {
   "cell_type": "code",
   "execution_count": null,
   "outputs": [],
   "source": [],
   "metadata": {
    "collapsed": false
   }
  },
  {
   "cell_type": "code",
   "execution_count": null,
   "outputs": [],
   "source": [],
   "metadata": {
    "collapsed": false
   }
  }
 ],
 "metadata": {
  "kernelspec": {
   "display_name": "Python 3",
   "language": "python",
   "name": "python3"
  },
  "language_info": {
   "codemirror_mode": {
    "name": "ipython",
    "version": 2
   },
   "file_extension": ".py",
   "mimetype": "text/x-python",
   "name": "python",
   "nbconvert_exporter": "python",
   "pygments_lexer": "ipython2",
   "version": "2.7.6"
  }
 },
 "nbformat": 4,
 "nbformat_minor": 0
}
